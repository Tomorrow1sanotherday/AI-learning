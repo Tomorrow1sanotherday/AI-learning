{
 "cells": [
  {
   "cell_type": "code",
   "execution_count": 1,
   "id": "8c33586e-2564-4cb9-ab9a-daf73e8b0156",
   "metadata": {},
   "outputs": [
    {
     "name": "stderr",
     "output_type": "stream",
     "text": [
      "D:\\Work\\Anaconda3\\envs\\bert\\lib\\site-packages\\tqdm\\auto.py:21: TqdmWarning: IProgress not found. Please update jupyter and ipywidgets. See https://ipywidgets.readthedocs.io/en/stable/user_install.html\n",
      "  from .autonotebook import tqdm as notebook_tqdm\n"
     ]
    }
   ],
   "source": [
    "import torch\n",
    "import numpy as np\n",
    "from torch import nn,optim\n",
    "from torchvision import datasets, transforms\n",
    "from torch.utils.data import DataLoader\n",
    "import torch.nn.functional as F\n",
    "import time"
   ]
  },
  {
   "cell_type": "code",
   "execution_count": 2,
   "id": "6f805837-c6b4-4020-9029-c8e84e763858",
   "metadata": {},
   "outputs": [],
   "source": [
    "#训练集\n",
    "train_dataset = datasets.MNIST(root = './', train = True, transform=transforms.ToTensor(),\n",
    "                              download = True)\n",
    "\n",
    "\n",
    "test_dataset = datasets.MNIST(root = './', train = False, transform=transforms.ToTensor(),\n",
    "                              download = True)\n"
   ]
  },
  {
   "cell_type": "code",
   "execution_count": 3,
   "id": "c84eb7ed-7335-409b-8eaa-c075879abdb6",
   "metadata": {},
   "outputs": [],
   "source": [
    "#批次大小\n",
    "batch_size = 64\n",
    "\n",
    "#装载训练集\n",
    "train_loader = DataLoader(train_dataset, batch_size = batch_size,\n",
    "                         shuffle=True)\n",
    "#装载测试集\n",
    "test_loader = DataLoader(test_dataset, batch_size = batch_size,\n",
    "                         shuffle=True)"
   ]
  },
  {
   "cell_type": "code",
   "execution_count": 4,
   "id": "a8dbfb56-eab4-4e94-9dfa-3dc8df60d1f5",
   "metadata": {},
   "outputs": [
    {
     "name": "stdout",
     "output_type": "stream",
     "text": [
      "torch.Size([64, 1, 28, 28])\n",
      "torch.Size([64])\n"
     ]
    }
   ],
   "source": [
    "for i,data in enumerate(train_loader):\n",
    "    inputs, labels = data\n",
    "    print(inputs.shape)\n",
    "    print(labels.shape)\n",
    "    break"
   ]
  },
  {
   "cell_type": "code",
   "execution_count": 11,
   "id": "e6513b36-542f-433a-8bfe-868591676a46",
   "metadata": {},
   "outputs": [],
   "source": [
    "#定义网络结构\n",
    "class Net(nn.Module):\n",
    "    def __init__(self):\n",
    "        super().__init__()\n",
    "        \n",
    "        self.conv1 = nn.Sequential(nn.Conv2d(1, 32, 5, 1, 2), nn.ReLU(), nn.MaxPool2d(2,2))\n",
    "        self.conv2 = nn.Sequential(nn.Conv2d(32, 64, 5, 1, 2), nn.ReLU(), nn.MaxPool2d(2,2))\n",
    "        self.fc1 = nn.Sequential(nn.Linear(64 * 7 * 7, 1000), nn.ReLU())\n",
    "        self.fc2 = nn.Sequential(nn.Linear(1000, 10), nn.Softmax(dim=-1))\n",
    "\n",
    "    def forward(self, x):\n",
    "        x = self.conv1(x)\n",
    "        x = self.conv2(x)\n",
    "        #([64,1,28,28])-> (64,784) 在全连接层做计算的时候只能是两维的数据\n",
    "        x = x.view(x.size()[0], -1)\n",
    "        x = self.fc1(x)\n",
    "        out = self.fc2(x)\n",
    "        return out"
   ]
  },
  {
   "cell_type": "code",
   "execution_count": 12,
   "id": "994b0c9f-0bdf-429f-aadc-8012cbb55ca1",
   "metadata": {},
   "outputs": [],
   "source": [
    "device = torch.device(\"cuda\" if torch.cuda.is_available() else \"cpu\")\n",
    "LR = 0.001\n",
    "#定义模型\n",
    "model = Net()\n",
    "model.to(device) \n",
    "#定义损失函数\n",
    "cross_loss = nn.CrossEntropyLoss()\n",
    "#定义优化器\n",
    "optimizer = optim.Adam(model.parameters(),LR)"
   ]
  },
  {
   "cell_type": "code",
   "execution_count": 14,
   "id": "75dabda9-f074-4694-9b90-fed59aa399f0",
   "metadata": {},
   "outputs": [],
   "source": [
    "def train():\n",
    "    for i, batch in enumerate(train_loader):\n",
    "        #获得一个批次的数据和标签\n",
    "        inputs, labels = batch\n",
    "        inputs = inputs.to(device)\n",
    "        labels = labels.to(device)\n",
    "        #获得模型预测结果\n",
    "        out = model(inputs)\n",
    "        #交叉熵代价函数out(batch, C(类别的数量))，labels(batch)\n",
    "        \n",
    "        \n",
    "        #计算loss\n",
    "        loss = cross_loss(out, labels)\n",
    "\n",
    "        #清除梯度\n",
    "        optimizer.zero_grad()\n",
    "\n",
    "        #计算梯度\n",
    "        loss.backward()\n",
    "\n",
    "        #修改权值\n",
    "        optimizer.step()\n",
    "\n",
    "def test():\n",
    "    correct = 0\n",
    "    for i, batch in enumerate(test_loader):\n",
    "        #获得一个批次的数据和标签\n",
    "        inputs, labels = batch\n",
    "        inputs = inputs.to(device)\n",
    "        labels = labels.to(device)\n",
    "        #获得模型预测结果\n",
    "        out = model(inputs)\n",
    "        #获得最大值，以及最大值所在的位置\n",
    "        _,predicted = torch.max(out, 1)\n",
    "        #预测正确的数量\n",
    "        correct += (predicted == labels).sum()\n",
    "    print(\"正确率为：{}\".format(correct.item()/len(test_dataset)))\n",
    "        "
   ]
  },
  {
   "cell_type": "code",
   "execution_count": 15,
   "id": "f240ec49-c097-4ea0-8a47-8da4dcdc6e76",
   "metadata": {},
   "outputs": [
    {
     "name": "stdout",
     "output_type": "stream",
     "text": [
      "epoch: 0\n",
      "正确率为：0.9818\n",
      "epoch: 1\n",
      "正确率为：0.9804\n",
      "epoch: 2\n",
      "正确率为：0.9874\n",
      "epoch: 3\n",
      "正确率为：0.9841\n",
      "epoch: 4\n",
      "正确率为：0.991\n",
      "epoch: 5\n",
      "正确率为：0.9896\n",
      "epoch: 6\n",
      "正确率为：0.9829\n",
      "epoch: 7\n",
      "正确率为：0.9884\n",
      "epoch: 8\n",
      "正确率为：0.9856\n",
      "epoch: 9\n",
      "正确率为：0.983\n",
      "epoch: 10\n",
      "正确率为：0.9847\n",
      "epoch: 11\n",
      "正确率为：0.9839\n",
      "epoch: 12\n",
      "正确率为：0.9853\n",
      "epoch: 13\n",
      "正确率为：0.98\n",
      "epoch: 14\n",
      "正确率为：0.9874\n",
      "epoch: 15\n",
      "正确率为：0.9852\n",
      "epoch: 16\n",
      "正确率为：0.9859\n",
      "epoch: 17\n",
      "正确率为：0.989\n",
      "epoch: 18\n",
      "正确率为：0.9884\n",
      "epoch: 19\n",
      "正确率为：0.9856\n",
      "epoch: 20\n",
      "正确率为：0.9879\n",
      "epoch: 21\n",
      "正确率为：0.9903\n",
      "epoch: 22\n",
      "正确率为：0.9764\n",
      "epoch: 23\n",
      "正确率为：0.9913\n",
      "epoch: 24\n",
      "正确率为：0.9887\n",
      "epoch: 25\n",
      "正确率为：0.9832\n",
      "epoch: 26\n",
      "正确率为：0.9898\n",
      "epoch: 27\n",
      "正确率为：0.9834\n",
      "epoch: 28\n",
      "正确率为：0.9853\n",
      "epoch: 29\n",
      "正确率为：0.9902\n",
      "epoch: 30\n",
      "正确率为：0.9876\n",
      "epoch: 31\n",
      "正确率为：0.9757\n",
      "epoch: 32\n",
      "正确率为：0.9773\n",
      "epoch: 33\n",
      "正确率为：0.9851\n",
      "epoch: 34\n",
      "正确率为：0.9889\n",
      "epoch: 35\n",
      "正确率为：0.9798\n",
      "epoch: 36\n",
      "正确率为：0.9882\n",
      "epoch: 37\n",
      "正确率为：0.988\n",
      "epoch: 38\n",
      "正确率为：0.9834\n",
      "epoch: 39\n",
      "正确率为：0.9853\n",
      "epoch: 40\n",
      "正确率为：0.986\n",
      "epoch: 41\n",
      "正确率为：0.9857\n",
      "epoch: 42\n",
      "正确率为：0.9837\n",
      "epoch: 43\n",
      "正确率为：0.9707\n",
      "epoch: 44\n",
      "正确率为：0.9875\n",
      "epoch: 45\n",
      "正确率为：0.9888\n",
      "epoch: 46\n",
      "正确率为：0.9864\n",
      "epoch: 47\n",
      "正确率为：0.9864\n",
      "epoch: 48\n"
     ]
    },
    {
     "ename": "KeyboardInterrupt",
     "evalue": "",
     "output_type": "error",
     "traceback": [
      "\u001b[1;31m---------------------------------------------------------------------------\u001b[0m",
      "\u001b[1;31mKeyboardInterrupt\u001b[0m                         Traceback (most recent call last)",
      "Cell \u001b[1;32mIn[15], line 5\u001b[0m\n\u001b[0;32m      3\u001b[0m \u001b[38;5;28;01mfor\u001b[39;00m epoch \u001b[38;5;129;01min\u001b[39;00m \u001b[38;5;28mrange\u001b[39m(\u001b[38;5;241m100\u001b[39m):\n\u001b[0;32m      4\u001b[0m     \u001b[38;5;28mprint\u001b[39m(\u001b[38;5;124m'\u001b[39m\u001b[38;5;124mepoch:\u001b[39m\u001b[38;5;124m'\u001b[39m, epoch)\n\u001b[1;32m----> 5\u001b[0m     \u001b[43mtrain\u001b[49m\u001b[43m(\u001b[49m\u001b[43m)\u001b[49m\n\u001b[0;32m      6\u001b[0m     test()\n\u001b[0;32m      7\u001b[0m end_time \u001b[38;5;241m=\u001b[39m time\u001b[38;5;241m.\u001b[39mtime()\n",
      "Cell \u001b[1;32mIn[14], line 19\u001b[0m, in \u001b[0;36mtrain\u001b[1;34m()\u001b[0m\n\u001b[0;32m     16\u001b[0m optimizer\u001b[38;5;241m.\u001b[39mzero_grad()\n\u001b[0;32m     18\u001b[0m \u001b[38;5;66;03m#计算梯度\u001b[39;00m\n\u001b[1;32m---> 19\u001b[0m \u001b[43mloss\u001b[49m\u001b[38;5;241;43m.\u001b[39;49m\u001b[43mbackward\u001b[49m\u001b[43m(\u001b[49m\u001b[43m)\u001b[49m\n\u001b[0;32m     21\u001b[0m \u001b[38;5;66;03m#修改权值\u001b[39;00m\n\u001b[0;32m     22\u001b[0m optimizer\u001b[38;5;241m.\u001b[39mstep()\n",
      "File \u001b[1;32mD:\\Work\\Anaconda3\\envs\\bert\\lib\\site-packages\\torch\\_tensor.py:396\u001b[0m, in \u001b[0;36mTensor.backward\u001b[1;34m(self, gradient, retain_graph, create_graph, inputs)\u001b[0m\n\u001b[0;32m    387\u001b[0m \u001b[38;5;28;01mif\u001b[39;00m has_torch_function_unary(\u001b[38;5;28mself\u001b[39m):\n\u001b[0;32m    388\u001b[0m     \u001b[38;5;28;01mreturn\u001b[39;00m handle_torch_function(\n\u001b[0;32m    389\u001b[0m         Tensor\u001b[38;5;241m.\u001b[39mbackward,\n\u001b[0;32m    390\u001b[0m         (\u001b[38;5;28mself\u001b[39m,),\n\u001b[1;32m   (...)\u001b[0m\n\u001b[0;32m    394\u001b[0m         create_graph\u001b[38;5;241m=\u001b[39mcreate_graph,\n\u001b[0;32m    395\u001b[0m         inputs\u001b[38;5;241m=\u001b[39minputs)\n\u001b[1;32m--> 396\u001b[0m \u001b[43mtorch\u001b[49m\u001b[38;5;241;43m.\u001b[39;49m\u001b[43mautograd\u001b[49m\u001b[38;5;241;43m.\u001b[39;49m\u001b[43mbackward\u001b[49m\u001b[43m(\u001b[49m\u001b[38;5;28;43mself\u001b[39;49m\u001b[43m,\u001b[49m\u001b[43m \u001b[49m\u001b[43mgradient\u001b[49m\u001b[43m,\u001b[49m\u001b[43m \u001b[49m\u001b[43mretain_graph\u001b[49m\u001b[43m,\u001b[49m\u001b[43m \u001b[49m\u001b[43mcreate_graph\u001b[49m\u001b[43m,\u001b[49m\u001b[43m \u001b[49m\u001b[43minputs\u001b[49m\u001b[38;5;241;43m=\u001b[39;49m\u001b[43minputs\u001b[49m\u001b[43m)\u001b[49m\n",
      "File \u001b[1;32mD:\\Work\\Anaconda3\\envs\\bert\\lib\\site-packages\\torch\\autograd\\__init__.py:173\u001b[0m, in \u001b[0;36mbackward\u001b[1;34m(tensors, grad_tensors, retain_graph, create_graph, grad_variables, inputs)\u001b[0m\n\u001b[0;32m    168\u001b[0m     retain_graph \u001b[38;5;241m=\u001b[39m create_graph\n\u001b[0;32m    170\u001b[0m \u001b[38;5;66;03m# The reason we repeat same the comment below is that\u001b[39;00m\n\u001b[0;32m    171\u001b[0m \u001b[38;5;66;03m# some Python versions print out the first line of a multi-line function\u001b[39;00m\n\u001b[0;32m    172\u001b[0m \u001b[38;5;66;03m# calls in the traceback and some print out the last line\u001b[39;00m\n\u001b[1;32m--> 173\u001b[0m \u001b[43mVariable\u001b[49m\u001b[38;5;241;43m.\u001b[39;49m\u001b[43m_execution_engine\u001b[49m\u001b[38;5;241;43m.\u001b[39;49m\u001b[43mrun_backward\u001b[49m\u001b[43m(\u001b[49m\u001b[43m  \u001b[49m\u001b[38;5;66;43;03m# Calls into the C++ engine to run the backward pass\u001b[39;49;00m\n\u001b[0;32m    174\u001b[0m \u001b[43m    \u001b[49m\u001b[43mtensors\u001b[49m\u001b[43m,\u001b[49m\u001b[43m \u001b[49m\u001b[43mgrad_tensors_\u001b[49m\u001b[43m,\u001b[49m\u001b[43m \u001b[49m\u001b[43mretain_graph\u001b[49m\u001b[43m,\u001b[49m\u001b[43m \u001b[49m\u001b[43mcreate_graph\u001b[49m\u001b[43m,\u001b[49m\u001b[43m \u001b[49m\u001b[43minputs\u001b[49m\u001b[43m,\u001b[49m\n\u001b[0;32m    175\u001b[0m \u001b[43m    \u001b[49m\u001b[43mallow_unreachable\u001b[49m\u001b[38;5;241;43m=\u001b[39;49m\u001b[38;5;28;43;01mTrue\u001b[39;49;00m\u001b[43m,\u001b[49m\u001b[43m \u001b[49m\u001b[43maccumulate_grad\u001b[49m\u001b[38;5;241;43m=\u001b[39;49m\u001b[38;5;28;43;01mTrue\u001b[39;49;00m\u001b[43m)\u001b[49m\n",
      "\u001b[1;31mKeyboardInterrupt\u001b[0m: "
     ]
    }
   ],
   "source": [
    "\n",
    "# 开始计时\n",
    "start_time = time.time()\n",
    "for epoch in range(100):\n",
    "    print('epoch:', epoch)\n",
    "    train()\n",
    "    test()\n",
    "end_time = time.time()\n",
    "print(end_time - start_time)"
   ]
  },
  {
   "cell_type": "code",
   "execution_count": 83,
   "id": "509675f7-5d54-4c61-9c01-e49a50044ae0",
   "metadata": {},
   "outputs": [
    {
     "data": {
      "text/plain": [
       "15515678605"
      ]
     },
     "execution_count": 83,
     "metadata": {},
     "output_type": "execute_result"
    }
   ],
   "source": [
    "123445 * 125689"
   ]
  },
  {
   "cell_type": "code",
   "execution_count": null,
   "id": "8889c6a1-e82c-4241-9c2d-4af04d2cccd8",
   "metadata": {},
   "outputs": [],
   "source": [
    "84.22844743728638"
   ]
  }
 ],
 "metadata": {
  "kernelspec": {
   "display_name": "Python 3 (ipykernel)",
   "language": "python",
   "name": "python3"
  },
  "language_info": {
   "codemirror_mode": {
    "name": "ipython",
    "version": 3
   },
   "file_extension": ".py",
   "mimetype": "text/x-python",
   "name": "python",
   "nbconvert_exporter": "python",
   "pygments_lexer": "ipython3",
   "version": "3.9.18"
  }
 },
 "nbformat": 4,
 "nbformat_minor": 5
}
