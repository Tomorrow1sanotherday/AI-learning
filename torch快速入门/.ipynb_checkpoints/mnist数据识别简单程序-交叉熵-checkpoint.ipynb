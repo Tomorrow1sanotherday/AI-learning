{
 "cells": [
  {
   "cell_type": "code",
   "execution_count": 1,
   "id": "8c33586e-2564-4cb9-ab9a-daf73e8b0156",
   "metadata": {},
   "outputs": [
    {
     "ename": "OSError",
     "evalue": "[WinError 1455] 页面文件太小，无法完成操作。 Error loading \"D:\\Work\\Anaconda3\\envs\\bert\\lib\\site-packages\\torch\\lib\\shm.dll\" or one of its dependencies.",
     "output_type": "error",
     "traceback": [
      "\u001b[1;31m---------------------------------------------------------------------------\u001b[0m",
      "\u001b[1;31mOSError\u001b[0m                                   Traceback (most recent call last)",
      "Cell \u001b[1;32mIn[1], line 1\u001b[0m\n\u001b[1;32m----> 1\u001b[0m \u001b[38;5;28;01mimport\u001b[39;00m \u001b[38;5;21;01mtorch\u001b[39;00m\n\u001b[0;32m      2\u001b[0m \u001b[38;5;28;01mimport\u001b[39;00m \u001b[38;5;21;01mnumpy\u001b[39;00m \u001b[38;5;28;01mas\u001b[39;00m \u001b[38;5;21;01mnp\u001b[39;00m\n\u001b[0;32m      3\u001b[0m \u001b[38;5;28;01mfrom\u001b[39;00m \u001b[38;5;21;01mtorch\u001b[39;00m \u001b[38;5;28;01mimport\u001b[39;00m nn,optim\n",
      "File \u001b[1;32mD:\\Work\\Anaconda3\\envs\\bert\\lib\\site-packages\\torch\\__init__.py:129\u001b[0m\n\u001b[0;32m    127\u001b[0m     err \u001b[38;5;241m=\u001b[39m ctypes\u001b[38;5;241m.\u001b[39mWinError(last_error)\n\u001b[0;32m    128\u001b[0m     err\u001b[38;5;241m.\u001b[39mstrerror \u001b[38;5;241m+\u001b[39m\u001b[38;5;241m=\u001b[39m \u001b[38;5;124mf\u001b[39m\u001b[38;5;124m'\u001b[39m\u001b[38;5;124m Error loading \u001b[39m\u001b[38;5;124m\"\u001b[39m\u001b[38;5;132;01m{\u001b[39;00mdll\u001b[38;5;132;01m}\u001b[39;00m\u001b[38;5;124m\"\u001b[39m\u001b[38;5;124m or one of its dependencies.\u001b[39m\u001b[38;5;124m'\u001b[39m\n\u001b[1;32m--> 129\u001b[0m     \u001b[38;5;28;01mraise\u001b[39;00m err\n\u001b[0;32m    130\u001b[0m \u001b[38;5;28;01melif\u001b[39;00m res \u001b[38;5;129;01mis\u001b[39;00m \u001b[38;5;129;01mnot\u001b[39;00m \u001b[38;5;28;01mNone\u001b[39;00m:\n\u001b[0;32m    131\u001b[0m     is_loaded \u001b[38;5;241m=\u001b[39m \u001b[38;5;28;01mTrue\u001b[39;00m\n",
      "\u001b[1;31mOSError\u001b[0m: [WinError 1455] 页面文件太小，无法完成操作。 Error loading \"D:\\Work\\Anaconda3\\envs\\bert\\lib\\site-packages\\torch\\lib\\shm.dll\" or one of its dependencies."
     ]
    }
   ],
   "source": [
    "import torch\n",
    "import numpy as np\n",
    "from torch import nn,optim\n",
    "from torchvision import datasets, transforms\n",
    "from torch.utils.data import DataLoader\n",
    "import torch.nn.functional as F"
   ]
  },
  {
   "cell_type": "code",
   "execution_count": null,
   "id": "6f805837-c6b4-4020-9029-c8e84e763858",
   "metadata": {},
   "outputs": [],
   "source": [
    "#训练集\n",
    "train_dataset = datasets.MNIST(root = './', train = True, transform=transforms.ToTensor(),\n",
    "                              download = True)\n",
    "\n",
    "\n",
    "test_dataset = datasets.MNIST(root = './', train = False, transform=transforms.ToTensor(),\n",
    "                              download = True)\n"
   ]
  },
  {
   "cell_type": "code",
   "execution_count": null,
   "id": "c84eb7ed-7335-409b-8eaa-c075879abdb6",
   "metadata": {},
   "outputs": [],
   "source": [
    "#批次大小\n",
    "batch_size = 64\n",
    "\n",
    "#装载训练集\n",
    "train_loader = DataLoader(train_dataset, batch_size = batch_size,\n",
    "                         shuffle=True)\n",
    "#装载测试集\n",
    "test_loader = DataLoader(test_dataset, batch_size = batch_size,\n",
    "                         shuffle=True)"
   ]
  },
  {
   "cell_type": "code",
   "execution_count": null,
   "id": "a8dbfb56-eab4-4e94-9dfa-3dc8df60d1f5",
   "metadata": {},
   "outputs": [],
   "source": [
    "for i,data in enumerate(train_loader):\n",
    "    inputs, labels = data\n",
    "    print(inputs.shape)\n",
    "    print(labels.shape)\n",
    "    break"
   ]
  },
  {
   "cell_type": "code",
   "execution_count": null,
   "id": "e6513b36-542f-433a-8bfe-868591676a46",
   "metadata": {},
   "outputs": [],
   "source": [
    "#定义网络结构\n",
    "class Net(nn.Module):\n",
    "    def __init__(self):\n",
    "        super().__init__()\n",
    "        self.fc1 = nn.Linear(784, 10)\n",
    "        self.softmax = nn.Softmax(dim = 1) #对第一个维度计算概率值 （64，10）\n",
    "\n",
    "    def forward(self, x):\n",
    "        #([64,1,28,28])-> (64,784) 在全连接层做计算的时候只能是两维的数据\n",
    "        x = x.view(x.size()[0], -1) #-1表示自动匹配\n",
    "        x = self.fc1(x)\n",
    "        out = self.softmax(x)\n",
    "        return out"
   ]
  },
  {
   "cell_type": "code",
   "execution_count": 2,
   "id": "994b0c9f-0bdf-429f-aadc-8012cbb55ca1",
   "metadata": {},
   "outputs": [
    {
     "ename": "NameError",
     "evalue": "name 'Net' is not defined",
     "output_type": "error",
     "traceback": [
      "\u001b[1;31m---------------------------------------------------------------------------\u001b[0m",
      "\u001b[1;31mNameError\u001b[0m                                 Traceback (most recent call last)",
      "Cell \u001b[1;32mIn[2], line 3\u001b[0m\n\u001b[0;32m      1\u001b[0m LR \u001b[38;5;241m=\u001b[39m \u001b[38;5;241m0.5\u001b[39m\n\u001b[0;32m      2\u001b[0m \u001b[38;5;66;03m#定义模型\u001b[39;00m\n\u001b[1;32m----> 3\u001b[0m model \u001b[38;5;241m=\u001b[39m \u001b[43mNet\u001b[49m()\n\u001b[0;32m      4\u001b[0m \u001b[38;5;66;03m#定义损失函数\u001b[39;00m\n\u001b[0;32m      5\u001b[0m mse_loss \u001b[38;5;241m=\u001b[39m nn\u001b[38;5;241m.\u001b[39mCrossEntropyLoss()\n",
      "\u001b[1;31mNameError\u001b[0m: name 'Net' is not defined"
     ]
    }
   ],
   "source": [
    "LR = 0.5\n",
    "#定义模型\n",
    "model = Net()\n",
    "#定义损失函数\n",
    "mse_loss = nn.CrossEntropyLoss()\n",
    "#定义优化器\n",
    "optimizer = optim.SGD(model.parameters(),LR)"
   ]
  },
  {
   "cell_type": "code",
   "execution_count": 3,
   "id": "75dabda9-f074-4694-9b90-fed59aa399f0",
   "metadata": {},
   "outputs": [],
   "source": [
    "def train():\n",
    "    for i, batch in enumerate(train_loader):\n",
    "        #获得一个批次的数据和标签\n",
    "        inputs, labels = batch\n",
    "        #获得模型预测结果\n",
    "        out = model(inputs)\n",
    "        #to onehot,变成独热编码\n",
    "        #(64) -> (64,1)\n",
    "        labels = labels.reshape(-1, 1)\n",
    "        \n",
    "        #tensor.scatter(dim, index, src)\n",
    "        #dim:对哪个维度进行独热编码\n",
    "        #index:要将src所对应的值放到tensor中的哪个位置。\n",
    "        #src:插入的index的值\n",
    "        one_hot = torch.zeros(inputs.shape[0], 10).scatter(1, labels, 1)\n",
    "\n",
    "        #计算loss,mse_loss的两个数据的shape要一致\n",
    "        loss = mse_loss(out, one_hot)\n",
    "\n",
    "        #清除梯度\n",
    "        optimizer.zero_grad()\n",
    "\n",
    "        #计算梯度\n",
    "        loss.backward()\n",
    "\n",
    "        #修改权值\n",
    "        optimizer.step()\n",
    "\n",
    "def test():\n",
    "    correct = 0\n",
    "    for i, batch in enumerate(test_loader):\n",
    "        #获得一个批次的数据和标签\n",
    "        inputs, labels = batch\n",
    "        #获得模型预测结果\n",
    "        out = model(inputs)\n",
    "        #获得最大值，以及最大值所在的位置\n",
    "        _,predicted = torch.max(out, 1)\n",
    "        #预测正确的数量\n",
    "        correct += (predicted == labels).sum()\n",
    "    print(\"正确率为：{}\".format(correct.item()/len(test_dataset)))\n",
    "        "
   ]
  },
  {
   "cell_type": "code",
   "execution_count": 44,
   "id": "f240ec49-c097-4ea0-8a47-8da4dcdc6e76",
   "metadata": {},
   "outputs": [
    {
     "name": "stdout",
     "output_type": "stream",
     "text": [
      "epoch: 0\n",
      "正确率为：0.8897\n",
      "epoch: 1\n",
      "正确率为：0.9029\n",
      "epoch: 2\n",
      "正确率为：0.9078\n",
      "epoch: 3\n",
      "正确率为：0.9118\n",
      "epoch: 4\n",
      "正确率为：0.9142\n",
      "epoch: 5\n",
      "正确率为：0.9155\n",
      "epoch: 6\n",
      "正确率为：0.9177\n",
      "epoch: 7\n",
      "正确率为：0.9179\n",
      "epoch: 8\n",
      "正确率为：0.9181\n",
      "epoch: 9\n",
      "正确率为：0.9194\n"
     ]
    }
   ],
   "source": [
    "for epoch in range(10):\n",
    "    print('epoch:', epoch)\n",
    "    train()\n",
    "    test()"
   ]
  },
  {
   "cell_type": "code",
   "execution_count": null,
   "id": "8889c6a1-e82c-4241-9c2d-4af04d2cccd8",
   "metadata": {},
   "outputs": [],
   "source": []
  }
 ],
 "metadata": {
  "kernelspec": {
   "display_name": "Python 3 (ipykernel)",
   "language": "python",
   "name": "python3"
  },
  "language_info": {
   "codemirror_mode": {
    "name": "ipython",
    "version": 3
   },
   "file_extension": ".py",
   "mimetype": "text/x-python",
   "name": "python",
   "nbconvert_exporter": "python",
   "pygments_lexer": "ipython3",
   "version": "3.9.18"
  }
 },
 "nbformat": 4,
 "nbformat_minor": 5
}
