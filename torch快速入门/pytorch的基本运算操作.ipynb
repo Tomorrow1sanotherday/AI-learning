{
 "cells": [
  {
   "cell_type": "code",
   "execution_count": 2,
   "id": "c6960fa4",
   "metadata": {},
   "outputs": [
    {
     "name": "stderr",
     "output_type": "stream",
     "text": [
      "D:\\Work\\Anaconda3\\envs\\bert\\lib\\site-packages\\tqdm\\auto.py:21: TqdmWarning: IProgress not found. Please update jupyter and ipywidgets. See https://ipywidgets.readthedocs.io/en/stable/user_install.html\n",
      "  from .autonotebook import tqdm as notebook_tqdm\n"
     ]
    }
   ],
   "source": [
    "import torch"
   ]
  },
  {
   "cell_type": "code",
   "execution_count": 16,
   "id": "b1b8cfeb",
   "metadata": {},
   "outputs": [
    {
     "name": "stdout",
     "output_type": "stream",
     "text": [
      "tensor([[4, 4, 4],\n",
      "        [4, 1, 3]])\n",
      "tensor([[2, 1, 1],\n",
      "        [1, 4, 4]])\n"
     ]
    }
   ],
   "source": [
    "a = torch.randint(1, 5, (2, 3))\n",
    "b = torch.randint(1, 5, (2, 3))\n",
    "print(a)\n",
    "print(b)"
   ]
  },
  {
   "cell_type": "code",
   "execution_count": 17,
   "id": "1ad0f3f3-c996-4ad4-a353-d80ac20e32db",
   "metadata": {},
   "outputs": [
    {
     "data": {
      "text/plain": [
       "tensor([[6, 5, 5],\n",
       "        [5, 5, 7]])"
      ]
     },
     "execution_count": 17,
     "metadata": {},
     "output_type": "execute_result"
    }
   ],
   "source": [
    "a + b #对应相加"
   ]
  },
  {
   "cell_type": "code",
   "execution_count": 18,
   "id": "b5402a8a-9462-4c57-9f69-4d946f1d55a1",
   "metadata": {},
   "outputs": [
    {
     "data": {
      "text/plain": [
       "tensor([[6, 5, 5],\n",
       "        [5, 5, 7]])"
      ]
     },
     "execution_count": 18,
     "metadata": {},
     "output_type": "execute_result"
    }
   ],
   "source": [
    "torch.add(a, b)"
   ]
  },
  {
   "cell_type": "code",
   "execution_count": 19,
   "id": "6987ded0-7877-4db6-91af-1cf8a43cda00",
   "metadata": {},
   "outputs": [
    {
     "data": {
      "text/plain": [
       "tensor([[6., 5., 5.],\n",
       "        [5., 5., 7.]])"
      ]
     },
     "execution_count": 19,
     "metadata": {},
     "output_type": "execute_result"
    }
   ],
   "source": [
    "result = torch.zeros(2, 3)\n",
    "torch.add(a,b,out = result)"
   ]
  },
  {
   "cell_type": "code",
   "execution_count": 20,
   "id": "49ec662b-731b-4edd-8de6-822e86b1c138",
   "metadata": {},
   "outputs": [
    {
     "data": {
      "text/plain": [
       "tensor([[6, 5, 5],\n",
       "        [5, 5, 7]])"
      ]
     },
     "execution_count": 20,
     "metadata": {},
     "output_type": "execute_result"
    }
   ],
   "source": [
    "#a = a + b\n",
    "#注意任何张量tensor会发生变换的操作都有一个前缀_\n",
    "a.add_(b)"
   ]
  },
  {
   "cell_type": "code",
   "execution_count": 21,
   "id": "4e068005-9f73-43f3-8865-e4a1684630e6",
   "metadata": {},
   "outputs": [
    {
     "data": {
      "text/plain": [
       "tensor([[4, 4, 4],\n",
       "        [4, 1, 3]])"
      ]
     },
     "execution_count": 21,
     "metadata": {},
     "output_type": "execute_result"
    }
   ],
   "source": [
    "a - b"
   ]
  },
  {
   "cell_type": "code",
   "execution_count": 23,
   "id": "888f05ca-d917-487e-bddd-90891cf619d5",
   "metadata": {},
   "outputs": [
    {
     "name": "stdout",
     "output_type": "stream",
     "text": [
      "tensor([[6, 5, 5],\n",
      "        [5, 5, 7]])\n",
      "tensor([[2, 1, 1],\n",
      "        [1, 4, 4]])\n"
     ]
    },
    {
     "data": {
      "text/plain": [
       "tensor([[12,  5,  5],\n",
       "        [ 5, 20, 28]])"
      ]
     },
     "execution_count": 23,
     "metadata": {},
     "output_type": "execute_result"
    }
   ],
   "source": [
    "print(a)\n",
    "print(b)\n",
    "a * b"
   ]
  },
  {
   "cell_type": "code",
   "execution_count": 27,
   "id": "6816cd4c-e650-4b22-8e30-cb31047266f0",
   "metadata": {},
   "outputs": [
    {
     "data": {
      "text/plain": [
       "tensor([[1, 1, 1, 1, 1],\n",
       "        [1, 1, 1, 1, 1],\n",
       "        [1, 1, 1, 1, 1]])"
      ]
     },
     "execution_count": 27,
     "metadata": {},
     "output_type": "execute_result"
    }
   ],
   "source": [
    "tensor = torch.ones(3 ,5, dtype = int)\n",
    "tensor"
   ]
  },
  {
   "cell_type": "code",
   "execution_count": 28,
   "id": "3a0407ea-efcb-49c7-b4d0-6d86d0becdfc",
   "metadata": {},
   "outputs": [
    {
     "data": {
      "text/plain": [
       "tensor([[16, 16, 16, 16, 16],\n",
       "        [17, 17, 17, 17, 17]])"
      ]
     },
     "execution_count": 28,
     "metadata": {},
     "output_type": "execute_result"
    }
   ],
   "source": [
    "torch.matmul(a, tensor) #矩阵的乘法"
   ]
  },
  {
   "cell_type": "code",
   "execution_count": 29,
   "id": "5d654b7a-9433-4e31-b2f4-e47776d39882",
   "metadata": {},
   "outputs": [
    {
     "data": {
      "text/plain": [
       "tensor([[6, 5],\n",
       "        [5, 5],\n",
       "        [5, 7]])"
      ]
     },
     "execution_count": 29,
     "metadata": {},
     "output_type": "execute_result"
    }
   ],
   "source": [
    "a.T #矩阵的转置"
   ]
  },
  {
   "cell_type": "code",
   "execution_count": 43,
   "id": "9169a859-0b03-4726-9143-cda0d0287080",
   "metadata": {},
   "outputs": [
    {
     "data": {
      "text/plain": [
       "tensor([[[0.1342, 0.1608, 0.8801, 0.0534, 0.8958],\n",
       "         [0.9503, 0.7246, 0.0279, 0.9716, 0.2352]],\n",
       "\n",
       "        [[0.2498, 0.2274, 0.8409, 0.5691, 0.6348],\n",
       "         [0.0901, 0.2153, 0.1953, 0.3492, 0.7765]],\n",
       "\n",
       "        [[0.4764, 0.9894, 0.7057, 0.8733, 0.8762],\n",
       "         [0.9012, 0.9755, 0.0949, 0.4441, 0.9953]]])"
      ]
     },
     "execution_count": 43,
     "metadata": {},
     "output_type": "execute_result"
    }
   ],
   "source": [
    "sample = torch.rand(3, 2, 5)\n",
    "sample"
   ]
  },
  {
   "cell_type": "code",
   "execution_count": 44,
   "id": "af3711df-265e-4a64-8091-da89e53e15aa",
   "metadata": {},
   "outputs": [
    {
     "data": {
      "text/plain": [
       "tensor(16.5144)"
      ]
     },
     "execution_count": 44,
     "metadata": {},
     "output_type": "execute_result"
    }
   ],
   "source": [
    "torch.sum(sample) #求和"
   ]
  },
  {
   "cell_type": "code",
   "execution_count": 45,
   "id": "8852e74c-adeb-45b0-bc7a-f9121a636f62",
   "metadata": {},
   "outputs": [
    {
     "data": {
      "text/plain": [
       "tensor(0.0279)"
      ]
     },
     "execution_count": 45,
     "metadata": {},
     "output_type": "execute_result"
    }
   ],
   "source": [
    "torch.min(sample)"
   ]
  },
  {
   "cell_type": "code",
   "execution_count": 46,
   "id": "316d7cea-fc11-4d56-9a57-ed75d058a688",
   "metadata": {},
   "outputs": [
    {
     "data": {
      "text/plain": [
       "tensor(0.9953)"
      ]
     },
     "execution_count": 46,
     "metadata": {},
     "output_type": "execute_result"
    }
   ],
   "source": [
    "torch.max(sample)"
   ]
  },
  {
   "cell_type": "code",
   "execution_count": 47,
   "id": "aa435374-6890-4410-96cb-c09c878e3ca5",
   "metadata": {},
   "outputs": [
    {
     "data": {
      "text/plain": [
       "tensor(29)"
      ]
     },
     "execution_count": 47,
     "metadata": {},
     "output_type": "execute_result"
    }
   ],
   "source": [
    "#求最小值所在的位置(索引)\n",
    "torch.argmin(sample)\n",
    "torch.argmax(sample)"
   ]
  },
  {
   "cell_type": "code",
   "execution_count": 48,
   "id": "4ed1bf47-9048-4a09-be3b-56057eaf7551",
   "metadata": {},
   "outputs": [
    {
     "data": {
      "text/plain": [
       "tensor(0.5505)"
      ]
     },
     "execution_count": 48,
     "metadata": {},
     "output_type": "execute_result"
    }
   ],
   "source": [
    "torch.mean(sample)"
   ]
  },
  {
   "cell_type": "code",
   "execution_count": 49,
   "id": "722f877c-9150-4118-b68b-06c8d2e805e3",
   "metadata": {},
   "outputs": [
    {
     "data": {
      "text/plain": [
       "tensor(0.5691)"
      ]
     },
     "execution_count": 49,
     "metadata": {},
     "output_type": "execute_result"
    }
   ],
   "source": [
    "torch.median(sample)"
   ]
  },
  {
   "cell_type": "code",
   "execution_count": 50,
   "id": "afa9189d-ecfd-4c6c-a056-9c2127386931",
   "metadata": {},
   "outputs": [
    {
     "data": {
      "text/plain": [
       "tensor([[[0.3663, 0.4009, 0.9382, 0.2311, 0.9465],\n",
       "         [0.9748, 0.8513, 0.1671, 0.9857, 0.4849]],\n",
       "\n",
       "        [[0.4998, 0.4769, 0.9170, 0.7544, 0.7968],\n",
       "         [0.3001, 0.4640, 0.4420, 0.5909, 0.8812]],\n",
       "\n",
       "        [[0.6902, 0.9947, 0.8401, 0.9345, 0.9361],\n",
       "         [0.9493, 0.9877, 0.3081, 0.6664, 0.9976]]])"
      ]
     },
     "execution_count": 50,
     "metadata": {},
     "output_type": "execute_result"
    }
   ],
   "source": [
    "torch.sqrt(sample)"
   ]
  },
  {
   "cell_type": "code",
   "execution_count": 52,
   "id": "820db791-86c2-486c-80ea-b4222198916f",
   "metadata": {},
   "outputs": [
    {
     "data": {
      "text/plain": [
       "tensor([[[0.1342, 0.1608, 0.8801, 0.0534, 0.8958],\n",
       "         [0.9503, 0.7246, 0.0279, 0.9716, 0.2352]],\n",
       "\n",
       "        [[0.2498, 0.2274, 0.8409, 0.5691, 0.6348],\n",
       "         [0.0901, 0.2153, 0.1953, 0.3492, 0.7765]],\n",
       "\n",
       "        [[0.4764, 0.9894, 0.7057, 0.8733, 0.8762],\n",
       "         [0.9012, 0.9755, 0.0949, 0.4441, 0.9953]]])"
      ]
     },
     "execution_count": 52,
     "metadata": {},
     "output_type": "execute_result"
    }
   ],
   "source": [
    "sample ** 2 #乘方\n",
    "sample"
   ]
  },
  {
   "cell_type": "code",
   "execution_count": null,
   "id": "d59bbcca-c5b6-4506-8173-520a81644fdd",
   "metadata": {},
   "outputs": [],
   "source": []
  }
 ],
 "metadata": {
  "kernelspec": {
   "display_name": "Python 3 (ipykernel)",
   "language": "python",
   "name": "python3"
  },
  "language_info": {
   "codemirror_mode": {
    "name": "ipython",
    "version": 3
   },
   "file_extension": ".py",
   "mimetype": "text/x-python",
   "name": "python",
   "nbconvert_exporter": "python",
   "pygments_lexer": "ipython3",
   "version": "3.9.18"
  }
 },
 "nbformat": 4,
 "nbformat_minor": 5
}
