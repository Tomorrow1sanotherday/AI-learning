{
 "cells": [
  {
   "cell_type": "code",
   "execution_count": 61,
   "id": "811cb728-800c-44f5-b7f8-acb001b404c9",
   "metadata": {},
   "outputs": [],
   "source": [
    "import torch\n",
    "import torch.nn as nn\n",
    "import torch.optim as optim\n",
    "from torchvision import datasets, transforms\n",
    "from torch.utils.data import DataLoader"
   ]
  },
  {
   "cell_type": "code",
   "execution_count": 62,
   "id": "e876ab32-5d26-4163-8622-ebdd74dbaee2",
   "metadata": {},
   "outputs": [],
   "source": [
    "#下载训练集\n",
    "train_dataset = datasets.MNIST(root = './',\n",
    "                              train = True,\n",
    "                              transform = transforms.ToTensor(),\n",
    "                              download=True)\n",
    "\n",
    "#下载测试集\n",
    "test_dataset = datasets.MNIST(root = './',\n",
    "                              train = False,\n",
    "                              transform = transforms.ToTensor(),\n",
    "                              download=True)"
   ]
  },
  {
   "cell_type": "code",
   "execution_count": 63,
   "id": "bf5d7481-9d83-4f90-a95c-3123016db38d",
   "metadata": {},
   "outputs": [],
   "source": [
    "#批次大小\n",
    "batch_size = 64\n",
    "\n",
    "#装载训练集\n",
    "train_loader = DataLoader(dataset = train_dataset,\n",
    "                         batch_size = batch_size,\n",
    "                         shuffle=True)\n",
    "\n",
    "#装载测试集\n",
    "test_loader = DataLoader(dataset = test_dataset,\n",
    "                         batch_size = batch_size,\n",
    "                         shuffle=True)"
   ]
  },
  {
   "cell_type": "code",
   "execution_count": 89,
   "id": "7a97cdd0-657e-47aa-98f9-a716148ec709",
   "metadata": {},
   "outputs": [],
   "source": [
    "#input_size输入特征的大小 \n",
    "#hidden_size,LSTM模块的数量\n",
    "# num_layer 表示隐藏层的层数\n",
    "#LSTM默认input(seq_len, batch, feature)\n",
    "# batch_first = Ture， 数据的格式变成input和output(batch, seq_len, feature)\n",
    "class LSTM(nn.Module):\n",
    "    def __init__(self):\n",
    "        super().__init__()\n",
    "        self.lstm = torch.nn.LSTM(\n",
    "        input_size = 28,\n",
    "        hidden_size = 64,\n",
    "        num_layers = 5,\n",
    "        batch_first = True)\n",
    "        self.out = torch.nn.Linear(in_features=64, out_features=10)\n",
    "        self.softmax = torch.nn.Softmax(dim = 1)\n",
    "    def forward(self, x):\n",
    "        #（batch, seq_len, feature）\n",
    "        #output:[batch,seq_len,hidden_size]\n",
    "        #虽然LSTM的batch_first设置为True,但是h_n,c_n的第一个维度还是num_layers\n",
    "        #h_n:[num_layers, batch, hidden_size]只包含最后一个输出序列的结果\n",
    "        #c_n:[num_layers, batch, hidden_size]只包含最后一个输出序列的结果\n",
    "        x = x.view(-1, 28, 28)\n",
    "        output,(h_n, c_n) = self.lstm(x)\n",
    "        output_in_last_timestep = h_n[-1,:,:]\n",
    "        x = self.out(output_in_last_timestep)\n",
    "        x = self.softmax(x)\n",
    "        \n",
    "        return x"
   ]
  },
  {
   "cell_type": "code",
   "execution_count": 90,
   "id": "cd12aff1-2ed9-49c6-b25e-9d2aaadd96c0",
   "metadata": {},
   "outputs": [],
   "source": [
    "LR = 0.0003\n",
    "model = LSTM()\n",
    "entroy_loss = nn.CrossEntropyLoss()\n",
    "optimizer = optim.Adam(model.parameters(), LR)"
   ]
  },
  {
   "cell_type": "code",
   "execution_count": 91,
   "id": "1bea4259-f98a-44a3-9093-ac17c80956c5",
   "metadata": {},
   "outputs": [],
   "source": [
    "def train():\n",
    "    model.train()\n",
    "    for i, data in enumerate(train_loader):\n",
    "        inputs, labels = data\n",
    "        out = model(inputs)\n",
    "        loss = entroy_loss(out, labels)\n",
    "        optimizer.zero_grad()\n",
    "        loss.backward()\n",
    "        optimizer.step()\n",
    "\n",
    "def test():\n",
    "    model.eval()\n",
    "    correct = 0\n",
    "    for i, data in enumerate(test_loader):\n",
    "        inputs, labels = data\n",
    "        out = model(inputs)\n",
    "        _, predicted = torch.max(out, 1)\n",
    "        correct += (predicted == labels).sum()\n",
    "    print(\"Train acc:{0}\".format(correct.item()/len(test_dataset)))"
   ]
  },
  {
   "cell_type": "code",
   "execution_count": 92,
   "id": "e27c3806-c0e1-45ec-afc4-111115eeeb4d",
   "metadata": {},
   "outputs": [
    {
     "name": "stdout",
     "output_type": "stream",
     "text": [
      "epoch: 0\n",
      "Train acc:0.7504\n",
      "epoch: 1\n",
      "Train acc:0.9023\n",
      "epoch: 2\n",
      "Train acc:0.9338\n",
      "epoch: 3\n",
      "Train acc:0.9495\n",
      "epoch: 4\n",
      "Train acc:0.9552\n",
      "epoch: 5\n",
      "Train acc:0.9599\n",
      "epoch: 6\n",
      "Train acc:0.962\n",
      "epoch: 7\n",
      "Train acc:0.9679\n",
      "epoch: 8\n",
      "Train acc:0.964\n",
      "epoch: 9\n",
      "Train acc:0.9737\n"
     ]
    }
   ],
   "source": [
    "for epoch in range(0, 10):\n",
    "    print('epoch:', epoch)\n",
    "    train()\n",
    "    test()"
   ]
  },
  {
   "cell_type": "code",
   "execution_count": 88,
   "id": "16036e03-8d92-451a-a675-fb9457483324",
   "metadata": {},
   "outputs": [
    {
     "name": "stdout",
     "output_type": "stream",
     "text": [
      "Max values per row (keeping shape): tensor([[  7, 100,   9]])\n",
      "Max indices per row (keeping shape): tensor([[2, 1, 2]])\n",
      "Max values per column (keeping shape): tensor([[  3],\n",
      "        [100],\n",
      "        [  9]])\n",
      "Max indices per column (keeping shape): tensor([[1],\n",
      "        [1],\n",
      "        [2]])\n"
     ]
    }
   ],
   "source": [
    "# 创建一个二维张量\n",
    "x = torch.tensor([[1, 3, 2], [4, 100, 6], [7, 8, 9]])\n",
    "\n",
    "# 在第一个维度（行）上查找最大值，并保留形状\n",
    "max_value_row, max_index_row = torch.max(x, 0, keepdim=True)\n",
    "print(\"Max values per row (keeping shape):\", max_value_row)\n",
    "print(\"Max indices per row (keeping shape):\", max_index_row)\n",
    "\n",
    "# 在第二个维度（列）上查找最大值，并保留形状\n",
    "max_value_col, max_index_col = torch.max(x, 1, keepdim=True)\n",
    "print(\"Max values per column (keeping shape):\", max_value_col)\n",
    "print(\"Max indices per column (keeping shape):\", max_index_col)"
   ]
  },
  {
   "cell_type": "code",
   "execution_count": 68,
   "id": "497ef5fe-a913-49a2-83cc-9b47f35c214e",
   "metadata": {},
   "outputs": [
    {
     "name": "stdout",
     "output_type": "stream",
     "text": [
      "Max value: tensor([  7,   8, 100])\n"
     ]
    }
   ],
   "source": [
    "# 创建一个二维张量\n",
    "x = torch.tensor([[1, 3, 2], [4, 5, 100], [7, 8, 9]])\n",
    "\n",
    "# 查找并打印最大值\n",
    "max_value, max_index_row = torch.max(x, dim = 0)\n",
    "print(\"Max value:\", max_value)"
   ]
  },
  {
   "cell_type": "code",
   "execution_count": null,
   "id": "21b3d3c8-922f-4cf3-9a04-84a76b0f7033",
   "metadata": {},
   "outputs": [],
   "source": []
  }
 ],
 "metadata": {
  "kernelspec": {
   "display_name": "Python 3 (ipykernel)",
   "language": "python",
   "name": "python3"
  },
  "language_info": {
   "codemirror_mode": {
    "name": "ipython",
    "version": 3
   },
   "file_extension": ".py",
   "mimetype": "text/x-python",
   "name": "python",
   "nbconvert_exporter": "python",
   "pygments_lexer": "ipython3",
   "version": "3.9.18"
  }
 },
 "nbformat": 4,
 "nbformat_minor": 5
}
